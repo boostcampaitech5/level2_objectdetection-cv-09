{
 "cells": [
  {
   "cell_type": "code",
   "execution_count": 1,
   "metadata": {},
   "outputs": [
    {
     "data": {
      "text/plain": [
       "{'year': 2021,\n",
       " 'version': '1.0',\n",
       " 'description': 'Recycle Trash',\n",
       " 'contributor': 'Upstage',\n",
       " 'url': None,\n",
       " 'date_created': '2021-02-02 01:10:00'}"
      ]
     },
     "execution_count": 1,
     "metadata": {},
     "output_type": "execute_result"
    }
   ],
   "source": [
    "from pycocotools.coco import COCO\n",
    "import json \n",
    "with open(\"../dataset/train.json\", \"r\") as f:\n",
    "    cfg = json.load(f)\n",
    "\n",
    "cfg['info']"
   ]
  },
  {
   "cell_type": "code",
   "execution_count": 91,
   "metadata": {},
   "outputs": [
    {
     "name": "stdout",
     "output_type": "stream",
     "text": [
      "loading annotations into memory...\n",
      "Done (t=0.19s)\n",
      "creating index...\n",
      "index created!\n",
      "3823\n"
     ]
    },
    {
     "data": {
      "text/plain": [
       "{'width': 1024,\n",
       " 'height': 1024,\n",
       " 'file_name': 'train/3823.jpg',\n",
       " 'license': 0,\n",
       " 'flickr_url': None,\n",
       " 'coco_url': None,\n",
       " 'date_captured': '2021-01-01 14:56:23',\n",
       " 'id': 2899}"
      ]
     },
     "execution_count": 91,
     "metadata": {},
     "output_type": "execute_result"
    }
   ],
   "source": [
    "import cv2 \n",
    "import os \n",
    "import numpy as np \n",
    "data_dir = '../dataset'\n",
    "coco = COCO(\"../dataset/temp_train.json\")\n",
    "image_id = coco.getImgIds(imgIds=2899)\n",
    "\n",
    "image_info = coco.loadImgs(image_id)[0]\n",
    "image_id = int(image_info['file_name'].split('/')[1][:4])\n",
    "print(image_id)\n",
    "image = cv2.imread(os.path.join(data_dir, image_info['file_name']))\n",
    "image = cv2.cvtColor(image, cv2.COLOR_BGR2RGB).astype(np.float32)\n",
    "image /= 255.0\n",
    "image_info\n"
   ]
  },
  {
   "cell_type": "code",
   "execution_count": 77,
   "metadata": {},
   "outputs": [
    {
     "name": "stdout",
     "output_type": "stream",
     "text": [
      "loading annotations into memory...\n",
      "Done (t=0.16s)\n",
      "creating index...\n",
      "index created!\n",
      "[3308]\n"
     ]
    },
    {
     "data": {
      "text/plain": [
       "{'width': 1024,\n",
       " 'height': 1024,\n",
       " 'file_name': 'train/3308.jpg',\n",
       " 'license': 0,\n",
       " 'flickr_url': None,\n",
       " 'coco_url': None,\n",
       " 'date_captured': '2021-01-05 10:55:49',\n",
       " 'id': 3308}"
      ]
     },
     "execution_count": 77,
     "metadata": {},
     "output_type": "execute_result"
    }
   ],
   "source": [
    "import cv2 \n",
    "import os \n",
    "import numpy as np \n",
    "data_dir = '../dataset'\n",
    "coco = COCO(\"../dataset/train.json\")\n",
    "image_id = coco.getImgIds(imgIds=3308)\n",
    "print(image_id)\n",
    "\n",
    "image_info = coco.loadImgs(image_id)[0]\n",
    "\n",
    "image = cv2.imread(os.path.join(data_dir, image_info['file_name']))\n",
    "image = cv2.cvtColor(image, cv2.COLOR_BGR2RGB).astype(np.float32)\n",
    "image /= 255.0\n",
    "image_info \n"
   ]
  },
  {
   "cell_type": "code",
   "execution_count": 83,
   "metadata": {},
   "outputs": [
    {
     "data": {
      "text/plain": [
       "18604"
      ]
     },
     "execution_count": 83,
     "metadata": {},
     "output_type": "execute_result"
    }
   ],
   "source": [
    "len(coco.getAnnIds())"
   ]
  },
  {
   "cell_type": "code",
   "execution_count": 92,
   "metadata": {},
   "outputs": [
    {
     "data": {
      "text/plain": [
       "([14809, 14810],\n",
       " [{'image_id': 3823,\n",
       "   'category_id': 0,\n",
       "   'area': 4030.48,\n",
       "   'bbox': [294.0, 522.1, 60.7, 66.4],\n",
       "   'iscrowd': 0,\n",
       "   'id': 14809},\n",
       "  {'image_id': 3823,\n",
       "   'category_id': 1,\n",
       "   'area': 112098.92,\n",
       "   'bbox': [344.2, 176.3, 237.8, 471.4],\n",
       "   'iscrowd': 0,\n",
       "   'id': 14810}])"
      ]
     },
     "execution_count": 92,
     "metadata": {},
     "output_type": "execute_result"
    }
   ],
   "source": [
    "ann_ids = coco.getAnnIds(imgIds=image_id)\n",
    "anns = coco.loadAnns(ann_ids)\n",
    "ann_ids, anns"
   ]
  },
  {
   "cell_type": "code",
   "execution_count": 93,
   "metadata": {},
   "outputs": [
    {
     "data": {
      "text/plain": [
       "array([[294. , 522.1,  60.7,  66.4],\n",
       "       [344.2, 176.3, 237.8, 471.4]])"
      ]
     },
     "execution_count": 93,
     "metadata": {},
     "output_type": "execute_result"
    }
   ],
   "source": [
    "boxes = np.array([x['bbox'] for x in anns])\n",
    "boxes"
   ]
  },
  {
   "cell_type": "code",
   "execution_count": 2,
   "metadata": {},
   "outputs": [
    {
     "data": {
      "text/plain": [
       "[{'id': 0, 'name': 'General trash', 'supercategory': 'General trash'},\n",
       " {'id': 1, 'name': 'Paper', 'supercategory': 'Paper'},\n",
       " {'id': 2, 'name': 'Paper pack', 'supercategory': 'Paper pack'},\n",
       " {'id': 3, 'name': 'Metal', 'supercategory': 'Metal'},\n",
       " {'id': 4, 'name': 'Glass', 'supercategory': 'Glass'},\n",
       " {'id': 5, 'name': 'Plastic', 'supercategory': 'Plastic'},\n",
       " {'id': 6, 'name': 'Styrofoam', 'supercategory': 'Styrofoam'},\n",
       " {'id': 7, 'name': 'Plastic bag', 'supercategory': 'Plastic bag'},\n",
       " {'id': 8, 'name': 'Battery', 'supercategory': 'Battery'},\n",
       " {'id': 9, 'name': 'Clothing', 'supercategory': 'Clothing'}]"
      ]
     },
     "execution_count": 2,
     "metadata": {},
     "output_type": "execute_result"
    }
   ],
   "source": [
    "cfg['categories']"
   ]
  },
  {
   "cell_type": "code",
   "execution_count": 8,
   "metadata": {},
   "outputs": [
    {
     "data": {
      "text/plain": [
       "[1, 8, 1, 2, 6, 22, 1, 2, 7, 1, 1, 1, 3, 16, 5, 3, 1, 1, 11, 10]"
      ]
     },
     "execution_count": 8,
     "metadata": {},
     "output_type": "execute_result"
    }
   ],
   "source": [
    "l = [0] * 4883\n",
    "for i in cfg['annotations']:\n",
    "    l[i['image_id']] += 1\n",
    "l[:20]"
   ]
  },
  {
   "cell_type": "code",
   "execution_count": 7,
   "metadata": {},
   "outputs": [
    {
     "data": {
      "text/plain": [
       "4883"
      ]
     },
     "execution_count": 7,
     "metadata": {},
     "output_type": "execute_result"
    }
   ],
   "source": [
    "len(cfg['images'])"
   ]
  },
  {
   "cell_type": "code",
   "execution_count": null,
   "metadata": {},
   "outputs": [],
   "source": []
  },
  {
   "cell_type": "code",
   "execution_count": 9,
   "metadata": {},
   "outputs": [
    {
     "name": "stdout",
     "output_type": "stream",
     "text": [
      "loading annotations into memory...\n"
     ]
    },
    {
     "ename": "TypeError",
     "evalue": "expected str, bytes or os.PathLike object, not dict",
     "output_type": "error",
     "traceback": [
      "\u001b[0;31m---------------------------------------------------------------------------\u001b[0m",
      "\u001b[0;31mTypeError\u001b[0m                                 Traceback (most recent call last)",
      "\u001b[0;32m/tmp/ipykernel_26013/3356646082.py\u001b[0m in \u001b[0;36m<module>\u001b[0;34m\u001b[0m\n\u001b[0;32m----> 1\u001b[0;31m \u001b[0mcoco\u001b[0m \u001b[0;34m=\u001b[0m \u001b[0mCOCO\u001b[0m\u001b[0;34m(\u001b[0m\u001b[0mcfg\u001b[0m\u001b[0;34m)\u001b[0m\u001b[0;34m\u001b[0m\u001b[0;34m\u001b[0m\u001b[0m\n\u001b[0m",
      "\u001b[0;32m/opt/conda/envs/detection/lib/python3.7/site-packages/pycocotools/coco.py\u001b[0m in \u001b[0;36m__init__\u001b[0;34m(self, annotation_file)\u001b[0m\n\u001b[1;32m     79\u001b[0m             \u001b[0mprint\u001b[0m\u001b[0;34m(\u001b[0m\u001b[0;34m'loading annotations into memory...'\u001b[0m\u001b[0;34m)\u001b[0m\u001b[0;34m\u001b[0m\u001b[0;34m\u001b[0m\u001b[0m\n\u001b[1;32m     80\u001b[0m             \u001b[0mtic\u001b[0m \u001b[0;34m=\u001b[0m \u001b[0mtime\u001b[0m\u001b[0;34m.\u001b[0m\u001b[0mtime\u001b[0m\u001b[0;34m(\u001b[0m\u001b[0;34m)\u001b[0m\u001b[0;34m\u001b[0m\u001b[0;34m\u001b[0m\u001b[0m\n\u001b[0;32m---> 81\u001b[0;31m             \u001b[0;32mwith\u001b[0m \u001b[0mopen\u001b[0m\u001b[0;34m(\u001b[0m\u001b[0mannotation_file\u001b[0m\u001b[0;34m,\u001b[0m \u001b[0;34m'r'\u001b[0m\u001b[0;34m)\u001b[0m \u001b[0;32mas\u001b[0m \u001b[0mf\u001b[0m\u001b[0;34m:\u001b[0m\u001b[0;34m\u001b[0m\u001b[0;34m\u001b[0m\u001b[0m\n\u001b[0m\u001b[1;32m     82\u001b[0m                 \u001b[0mdataset\u001b[0m \u001b[0;34m=\u001b[0m \u001b[0mjson\u001b[0m\u001b[0;34m.\u001b[0m\u001b[0mload\u001b[0m\u001b[0;34m(\u001b[0m\u001b[0mf\u001b[0m\u001b[0;34m)\u001b[0m\u001b[0;34m\u001b[0m\u001b[0;34m\u001b[0m\u001b[0m\n\u001b[1;32m     83\u001b[0m             \u001b[0;32massert\u001b[0m \u001b[0mtype\u001b[0m\u001b[0;34m(\u001b[0m\u001b[0mdataset\u001b[0m\u001b[0;34m)\u001b[0m\u001b[0;34m==\u001b[0m\u001b[0mdict\u001b[0m\u001b[0;34m,\u001b[0m \u001b[0;34m'annotation file format {} not supported'\u001b[0m\u001b[0;34m.\u001b[0m\u001b[0mformat\u001b[0m\u001b[0;34m(\u001b[0m\u001b[0mtype\u001b[0m\u001b[0;34m(\u001b[0m\u001b[0mdataset\u001b[0m\u001b[0;34m)\u001b[0m\u001b[0;34m)\u001b[0m\u001b[0;34m\u001b[0m\u001b[0;34m\u001b[0m\u001b[0m\n",
      "\u001b[0;31mTypeError\u001b[0m: expected str, bytes or os.PathLike object, not dict"
     ]
    }
   ],
   "source": [
    "coco = COCO(cfg)"
   ]
  },
  {
   "cell_type": "code",
   "execution_count": 5,
   "metadata": {},
   "outputs": [
    {
     "data": {
      "text/plain": [
       "dict_keys(['info', 'licenses', 'images', 'categories', 'annotations'])"
      ]
     },
     "execution_count": 5,
     "metadata": {},
     "output_type": "execute_result"
    }
   ],
   "source": [
    "image_id = coco.getImgIds(imgIds=index)\n",
    "\n",
    "image_info = coco.loadImgs(image_id)[0]"
   ]
  },
  {
   "cell_type": "code",
   "execution_count": null,
   "metadata": {},
   "outputs": [],
   "source": [
    "from torchvision.models.detection import faster"
   ]
  }
 ],
 "metadata": {
  "kernelspec": {
   "display_name": "detection",
   "language": "python",
   "name": "python3"
  },
  "language_info": {
   "codemirror_mode": {
    "name": "ipython",
    "version": 3
   },
   "file_extension": ".py",
   "mimetype": "text/x-python",
   "name": "python",
   "nbconvert_exporter": "python",
   "pygments_lexer": "ipython3",
   "version": "3.7.16"
  },
  "orig_nbformat": 4
 },
 "nbformat": 4,
 "nbformat_minor": 2
}
